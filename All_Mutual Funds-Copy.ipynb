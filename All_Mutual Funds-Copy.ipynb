{
 "cells": [
  {
   "cell_type": "code",
   "execution_count": 1,
   "id": "a2a51c8c",
   "metadata": {},
   "outputs": [],
   "source": [
    "import selenium\n",
    "from selenium.webdriver.common.by import By\n",
    "from selenium import webdriver\n",
    "\n",
    "\n",
    "driver=webdriver.Chrome()\n",
    "\n",
    "driver.get('https://www.etmoney.com/mutual-funds/all-funds-listing')\n",
    "\n",
    "#  Accept Cookies\n"
   ]
  },
  {
   "cell_type": "code",
   "execution_count": 136,
   "id": "197f8fa1",
   "metadata": {},
   "outputs": [],
   "source": [
    "main_page=driver.find_element(By.CLASS_NAME,'mfExplore-body')"
   ]
  },
  {
   "cell_type": "code",
   "execution_count": 137,
   "id": "d32a174d",
   "metadata": {},
   "outputs": [],
   "source": [
    "#computer=main_page.find_elements(by='xpath',value='//*[@id=\"__next\"]/div[1]/section/div/div/div[2]/div[1]')"
   ]
  },
  {
   "cell_type": "code",
   "execution_count": 138,
   "id": "956a7ab6",
   "metadata": {},
   "outputs": [],
   "source": [
    "a=main_page.find_elements(By.CLASS_NAME,'mfFund-block')"
   ]
  },
  {
   "cell_type": "code",
   "execution_count": 139,
   "id": "29aa1bed",
   "metadata": {},
   "outputs": [],
   "source": [
    "p=a[0].text"
   ]
  },
  {
   "cell_type": "code",
   "execution_count": 140,
   "id": "0d147ded",
   "metadata": {},
   "outputs": [
    {
     "data": {
      "text/plain": [
       "' 6.52'"
      ]
     },
     "execution_count": 140,
     "metadata": {},
     "output_type": "execute_result"
    }
   ],
   "source": [
    "p.split('\\n')[9][1:6]"
   ]
  },
  {
   "cell_type": "code",
   "execution_count": 141,
   "id": "2bbc6405",
   "metadata": {},
   "outputs": [],
   "source": [
    "plan=[]\n",
    "name=[]\n",
    "per_anum_Return=[]\n",
    "Expense_Ratio=[]\n",
    "current_val=[]"
   ]
  },
  {
   "cell_type": "code",
   "execution_count": 142,
   "id": "4d90a383",
   "metadata": {},
   "outputs": [],
   "source": [
    "def page():\n",
    "    for k in range(1):\n",
    "        a=main_page.find_elements(By.CLASS_NAME,'mfFund-block')\n",
    "        for j in range(1,len(a),2):\n",
    "            i=a[j].text\n",
    "            plan.append(i.split('\\n')[2])\n",
    "            name.append(i.split('\\n')[0])\n",
    "            per_anum_Return.append(i.split('\\n')[9][1:6])\n",
    "            Expense_Ratio.append(i.split('\\n')[11][-5:-1])\n",
    "            current_val.append(i.split('\\n')[7][1:5])\n",
    "        #click=main_page.find_element(by='xpath',value='//*[@id=\"__next\"]/div[1]/section/div/div/div[2]/div[1]/div[3]')\n",
    "        cl=main_page.find_elements(By.CLASS_NAME,'load_more')[-1]\n",
    "        #cl.click()"
   ]
  },
  {
   "cell_type": "code",
   "execution_count": 124,
   "id": "c3740c66",
   "metadata": {},
   "outputs": [],
   "source": [
    "for i in range(5):\n",
    "    cl=main_page.find_elements(By.CLASS_NAME,'load_more')[-1]\n",
    "    cl.click()"
   ]
  },
  {
   "cell_type": "code",
   "execution_count": 143,
   "id": "cc0d53e0",
   "metadata": {},
   "outputs": [],
   "source": [
    "page()"
   ]
  },
  {
   "cell_type": "code",
   "execution_count": 626,
   "id": "0d5d2341",
   "metadata": {},
   "outputs": [],
   "source": [
    "page()"
   ]
  },
  {
   "cell_type": "code",
   "execution_count": 627,
   "id": "112a57a5",
   "metadata": {},
   "outputs": [],
   "source": [
    "page()"
   ]
  },
  {
   "cell_type": "code",
   "execution_count": 629,
   "id": "66ea81bb",
   "metadata": {},
   "outputs": [],
   "source": [
    "page()"
   ]
  },
  {
   "cell_type": "code",
   "execution_count": 630,
   "id": "d1865974",
   "metadata": {},
   "outputs": [],
   "source": [
    "page()"
   ]
  },
  {
   "cell_type": "code",
   "execution_count": 631,
   "id": "b140a249",
   "metadata": {},
   "outputs": [],
   "source": [
    "page()"
   ]
  },
  {
   "cell_type": "code",
   "execution_count": 632,
   "id": "202fb18a",
   "metadata": {
    "scrolled": true
   },
   "outputs": [],
   "source": [
    "page()"
   ]
  },
  {
   "cell_type": "code",
   "execution_count": 639,
   "id": "ad1e4fb3",
   "metadata": {},
   "outputs": [],
   "source": [
    "page()"
   ]
  },
  {
   "cell_type": "code",
   "execution_count": 133,
   "id": "24cedc13",
   "metadata": {},
   "outputs": [],
   "source": [
    "import pandas as pd"
   ]
  },
  {
   "cell_type": "code",
   "execution_count": 144,
   "id": "c1474bea",
   "metadata": {},
   "outputs": [],
   "source": [
    "df=pd.DataFrame({'Plan':plan,'Fund_Name':name,'p.a Return':per_anum_Return,'Expense Ratio':Expense_Ratio,'Current Val':current_val})"
   ]
  },
  {
   "cell_type": "code",
   "execution_count": 146,
   "id": "4e0b6774",
   "metadata": {},
   "outputs": [
    {
     "data": {
      "text/plain": [
       "Plan             0\n",
       "Fund_Name        0\n",
       "p.a Return       0\n",
       "Expense Ratio    0\n",
       "Current Val      0\n",
       "dtype: int64"
      ]
     },
     "execution_count": 146,
     "metadata": {},
     "output_type": "execute_result"
    }
   ],
   "source": [
    "df.isnull().sum()"
   ]
  },
  {
   "cell_type": "code",
   "execution_count": 657,
   "id": "233dcc08",
   "metadata": {},
   "outputs": [],
   "source": [
    "df1=df.drop_duplicates()"
   ]
  },
  {
   "cell_type": "code",
   "execution_count": 665,
   "id": "d0b3a631",
   "metadata": {},
   "outputs": [],
   "source": [
    "a=df1.drop_duplicates()"
   ]
  },
  {
   "cell_type": "code",
   "execution_count": 670,
   "id": "2032d789",
   "metadata": {},
   "outputs": [],
   "source": [
    "n=a['Fund_Name'].value_counts()"
   ]
  },
  {
   "cell_type": "code",
   "execution_count": 679,
   "id": "43a489bf",
   "metadata": {},
   "outputs": [
    {
     "data": {
      "text/html": [
       "<div>\n",
       "<style scoped>\n",
       "    .dataframe tbody tr th:only-of-type {\n",
       "        vertical-align: middle;\n",
       "    }\n",
       "\n",
       "    .dataframe tbody tr th {\n",
       "        vertical-align: top;\n",
       "    }\n",
       "\n",
       "    .dataframe thead th {\n",
       "        text-align: right;\n",
       "    }\n",
       "</style>\n",
       "<table border=\"1\" class=\"dataframe\">\n",
       "  <thead>\n",
       "    <tr style=\"text-align: right;\">\n",
       "      <th></th>\n",
       "      <th>Plan</th>\n",
       "      <th>Fund_Name</th>\n",
       "      <th>5Y Return</th>\n",
       "      <th>Expense Ratio</th>\n",
       "      <th>Amu(Cr)</th>\n",
       "    </tr>\n",
       "  </thead>\n",
       "  <tbody>\n",
       "    <tr>\n",
       "      <th>799</th>\n",
       "      <td>Growth</td>\n",
       "      <td>Aditya Birla Sun Life CRISIL IBX 50:50 Gilt Pl...</td>\n",
       "      <td>--</td>\n",
       "      <td>0.34</td>\n",
       "      <td>224.66</td>\n",
       "    </tr>\n",
       "    <tr>\n",
       "      <th>996</th>\n",
       "      <td>Growth</td>\n",
       "      <td>Aditya Birla Sun Life CRISIL IBX 50:50 Gilt Pl...</td>\n",
       "      <td>--</td>\n",
       "      <td>0.19</td>\n",
       "      <td>224.66</td>\n",
       "    </tr>\n",
       "  </tbody>\n",
       "</table>\n",
       "</div>"
      ],
      "text/plain": [
       "       Plan                                          Fund_Name 5Y Return  \\\n",
       "799  Growth  Aditya Birla Sun Life CRISIL IBX 50:50 Gilt Pl...        --   \n",
       "996  Growth  Aditya Birla Sun Life CRISIL IBX 50:50 Gilt Pl...        --   \n",
       "\n",
       "    Expense Ratio Amu(Cr)  \n",
       "799          0.34  224.66  \n",
       "996          0.19  224.66  "
      ]
     },
     "execution_count": 679,
     "metadata": {},
     "output_type": "execute_result"
    }
   ],
   "source": [
    "a[a['Fund_Name']=='Aditya Birla Sun Life CRISIL IBX 50:50 Gilt Plus SDL Apr 2028 Index Fund']"
   ]
  },
  {
   "cell_type": "code",
   "execution_count": 147,
   "id": "2c27dc4d",
   "metadata": {},
   "outputs": [],
   "source": [
    "df.to_csv('All_Mutual_Funds.csv')"
   ]
  },
  {
   "cell_type": "code",
   "execution_count": 686,
   "id": "6fe08eb8",
   "metadata": {},
   "outputs": [
    {
     "data": {
      "text/plain": [
       "array(['Growth'], dtype=object)"
      ]
     },
     "execution_count": 686,
     "metadata": {},
     "output_type": "execute_result"
    }
   ],
   "source": [
    "a['Plan'].unique()"
   ]
  },
  {
   "cell_type": "code",
   "execution_count": null,
   "id": "5e1299aa",
   "metadata": {},
   "outputs": [],
   "source": []
  }
 ],
 "metadata": {
  "kernelspec": {
   "display_name": "Python 3 (ipykernel)",
   "language": "python",
   "name": "python3"
  },
  "language_info": {
   "codemirror_mode": {
    "name": "ipython",
    "version": 3
   },
   "file_extension": ".py",
   "mimetype": "text/x-python",
   "name": "python",
   "nbconvert_exporter": "python",
   "pygments_lexer": "ipython3",
   "version": "3.9.7"
  }
 },
 "nbformat": 4,
 "nbformat_minor": 5
}
